{
 "cells": [
  {
   "cell_type": "code",
   "execution_count": 32,
   "metadata": {},
   "outputs": [],
   "source": [
    "import pandas as pd\n",
    "import numpy as np\n",
    "import networkx as nx\n",
    "import matplotlib.pyplot as plt\n",
    "import statistics"
   ]
  },
  {
   "cell_type": "code",
   "execution_count": 33,
   "metadata": {},
   "outputs": [],
   "source": [
    "def drop_weights(G):\n",
    "    '''Drop the weights from a networkx weighted graph.'''\n",
    "    for node, edges in nx.to_dict_of_dicts(G).items():\n",
    "        for edge, attrs in edges.items():\n",
    "            attrs.pop('weight', None)"
   ]
  },
  {
   "cell_type": "code",
   "execution_count": 34,
   "metadata": {},
   "outputs": [],
   "source": [
    "def similarita(voti_dep1, voti_dep2):\n",
    "    uguali = np.sum((voti_dep1 == voti_dep2) & (voti_dep1 != 0) ) # volte in cui hanno votato la stessa  ed erano entrambi presenti\n",
    "\n",
    "    diversi = np.sum((voti_dep1 != voti_dep2) & (voti_dep1 != 0) & (voti_dep2 != 0) ) # volte in cui hanno votato diversamente ed erano entrambi presenti\n",
    "    \n",
    "    if uguali == 0:\n",
    "        sim = 0\n",
    "    else:\n",
    "        sim = uguali/(uguali+diversi)\n",
    "    return sim"
   ]
  },
  {
   "attachments": {},
   "cell_type": "markdown",
   "metadata": {},
   "source": [
    "# Graph based on similarity"
   ]
  },
  {
   "cell_type": "code",
   "execution_count": 36,
   "metadata": {},
   "outputs": [
    {
     "name": "stdout",
     "output_type": "stream",
     "text": [
      "month 4 --> Nodes: 594 ; Isolated:6 ; Non Isolated Nodes: 588\n",
      "month 5 --> Nodes: 594 ; Isolated:6 ; Non Isolated Nodes: 588\n",
      "month 6 --> Nodes: 595 ; Isolated:7 ; Non Isolated Nodes: 588\n",
      "month 7 --> Nodes: 594 ; Isolated:15 ; Non Isolated Nodes: 579\n",
      "month 8 --> Nodes: 595 ; Isolated:98 ; Non Isolated Nodes: 497\n",
      "month 9 --> Nodes: 594 ; Isolated:21 ; Non Isolated Nodes: 573\n",
      "month 10 --> Nodes: 594 ; Isolated:14 ; Non Isolated Nodes: 580\n",
      "month 11 --> Nodes: 594 ; Isolated:12 ; Non Isolated Nodes: 582\n",
      "month 12 --> Nodes: 594 ; Isolated:7 ; Non Isolated Nodes: 587\n"
     ]
    }
   ],
   "source": [
    "leg = 'xvii'\n",
    "year = '2013'\n",
    "\n",
    "startmonth = 1\n",
    "endmonth = 13\n",
    "if (year == '2013' and leg == 'xvii'):\n",
    "   startmonth = 4\n",
    "elif (year == '2018' and leg == 'xviii'):\n",
    "   startmonth = 6\n",
    "else: \n",
    "   startmonth = 1\n",
    "\n",
    "if (year == '2018' and leg == 'xvii'):\n",
    "   endmonth = 6\n",
    "elif (year == '2022' and leg == 'xviii'):\n",
    "   startmonth = 2 #perché non ci sono dati a gennaio\n",
    "   endmonth = 9 #perché dopo agosto non ci sono dati\n",
    "else: \n",
    "   endmonth = 13\n",
    "\n",
    "for mon in range (startmonth, endmonth):\n",
    "    month = str(mon)\n",
    "    df = pd.read_csv(f'./{leg}-months/{leg}-{year}_{month}.csv')\n",
    "\n",
    "   #remove serial absents\n",
    "   # indici = []\n",
    "   # absence_tresh = 0.3\n",
    "   # for i in range(df.shape[0]):\n",
    "   #    if np.count_nonzero(df.iloc[i,4:]) < absence_tresh*(df.shape[1]-4):\n",
    "   #       indici.append(i)\n",
    "\n",
    "\n",
    "   # df.drop(indici, axis = 0, inplace = True)\n",
    "   # df.shape\n",
    "\n",
    "\n",
    "    m = np.array(df[df.columns[4:df.shape[1]]])\n",
    "    m.shape\n",
    "    A = np.zeros((len(m),len(m))) #inizializzo matrice a 0\n",
    "    i=0\n",
    "    j=0\n",
    "    for i in range(len(m)):\n",
    "        for j in range(len(m)):\n",
    "            A[i,j] = similarita(m[i],m[j])\n",
    "    G = nx.from_numpy_matrix(A)\n",
    "    G.remove_edges_from(nx.selfloop_edges(G))\n",
    "    F = G.copy()\n",
    "    tresh = np.percentile(A, q = 50)\n",
    "    threshold = tresh\n",
    "    F.remove_edges_from([(n1, n2) for n1, n2, w in F.edges(data=\"weight\") if w < threshold])\n",
    "    #drop_weights(F)\n",
    "    \n",
    "    print(f'month {mon} --> Nodes: {F.number_of_nodes()} ; Isolated:{len(list(nx.isolates(F)))} ; Non Isolated Nodes: {F.number_of_nodes()-len(list(nx.isolates(F)))}')\n",
    "\n",
    "    nx.write_weighted_edgelist(F,f'./{leg}-months/edgelist-{leg}-{year}_{month}_weighted.txt')\n"
   ]
  }
 ],
 "metadata": {
  "kernelspec": {
   "display_name": "sna",
   "language": "python",
   "name": "python3"
  },
  "language_info": {
   "codemirror_mode": {
    "name": "ipython",
    "version": 3
   },
   "file_extension": ".py",
   "mimetype": "text/x-python",
   "name": "python",
   "nbconvert_exporter": "python",
   "pygments_lexer": "ipython3",
   "version": "3.8.10"
  },
  "orig_nbformat": 4
 },
 "nbformat": 4,
 "nbformat_minor": 2
}
