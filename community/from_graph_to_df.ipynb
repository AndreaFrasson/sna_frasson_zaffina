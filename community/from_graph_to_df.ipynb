{
 "cells": [
  {
   "cell_type": "code",
   "execution_count": 1,
   "metadata": {},
   "outputs": [],
   "source": [
    "import pathlib\n",
    "import os\n",
    "import pandas as pd\n",
    "import numpy as np\n",
    "import networkx as nx\n",
    "import statistics"
   ]
  },
  {
   "cell_type": "code",
   "execution_count": 2,
   "metadata": {},
   "outputs": [],
   "source": [
    "def similarita(voti_dep1, voti_dep2):\n",
    "    uguali = np.sum((voti_dep1 == voti_dep2) & (voti_dep1 != 0) ) # volte in cui hanno votato la stessa  ed erano entrambi presenti\n",
    "    diversi = np.sum((voti_dep1 != voti_dep2) & (voti_dep1 != 0) & (voti_dep2 != 0) ) # volte in cui hanno votato diversamente ed erano entrambi presenti\n",
    "    \n",
    "    if uguali == 0:\n",
    "        sim = 0\n",
    "    else:\n",
    "        sim = uguali/(uguali+diversi)\n",
    "    return sim"
   ]
  },
  {
   "cell_type": "code",
   "execution_count": 3,
   "metadata": {},
   "outputs": [],
   "source": [
    "def alignment_parties(df):\n",
    "    col = df.columns[4:].to_list()\n",
    "    col.append('Partito')\n",
    "    parties_alignment = pd.DataFrame()\n",
    "    party = df.groupby('Partito')\n",
    "    for i in party: # party[0] nome partito, party[1] dataframe\n",
    "        a = np.apply_along_axis(statistics.mode, axis = 0, arr= i[1])[4:].tolist()\n",
    "        a.append(i[0])\n",
    "        parties_alignment = pd.concat([parties_alignment, pd.DataFrame(a).T], axis = 0)\n",
    "\n",
    "    parties_alignment.columns = col\n",
    "    return parties_alignment"
   ]
  },
  {
   "cell_type": "code",
   "execution_count": 4,
   "metadata": {},
   "outputs": [],
   "source": [
    "def drop_weights(G):\n",
    "    '''Drop the weights from a networkx weighted graph.'''\n",
    "    for node, edges in nx.to_dict_of_dicts(G).items():\n",
    "        for edge, attrs in edges.items():\n",
    "            attrs.pop('weight', None)"
   ]
  },
  {
   "cell_type": "code",
   "execution_count": 5,
   "metadata": {},
   "outputs": [],
   "source": [
    "dataset_folder = pathlib.Path(os.path.dirname(os.getcwd())+'\\\\data_collection\\\\data\\\\Data_monthly\\\\xviii-2022')"
   ]
  },
  {
   "cell_type": "code",
   "execution_count": 6,
   "metadata": {},
   "outputs": [],
   "source": [
    "file_list = list(dataset_folder.iterdir())\n",
    "for i, path in enumerate(file_list):\n",
    "    if path.suffix != \".csv\":\n",
    "        file_list.pop(i)"
   ]
  },
  {
   "cell_type": "code",
   "execution_count": 24,
   "metadata": {},
   "outputs": [],
   "source": [
    "df = pd.read_csv(file_list[1])"
   ]
  },
  {
   "cell_type": "code",
   "execution_count": 25,
   "metadata": {},
   "outputs": [],
   "source": [
    "dizionario_espressioni = {'Assente': np.float64(0), 'Favorevole': np.float64(1), 'Non ha votato': np.float64(0), 'Contrario': np.float64(3), 'Astensione': np.float64(4), 'In missione': np.float64(0)}\n",
    "for i in df.columns[4:]:\n",
    "    df[i] = df[i].map(dizionario_espressioni)\n",
    "\n",
    "df = df.replace(np.nan, 0)\n",
    "\n",
    "df.reset_index(inplace= True, drop = True)\n",
    "\n",
    "indici = []\n",
    "for i in range(df.shape[0]):\n",
    "    if np.count_nonzero(df.iloc[i,4:]) < 0.7*(df.shape[1]-4):\n",
    "        indici.append(i)\n",
    "\n",
    "df.drop(indici, axis = 0, inplace = True)"
   ]
  },
  {
   "cell_type": "code",
   "execution_count": 27,
   "metadata": {},
   "outputs": [],
   "source": [
    "def fromCsvToGraph(df):\n",
    "    #mapping to categorical values\n",
    "    dizionario_espressioni = {'Assente': np.float64(0), 'Favorevole': np.float64(1), 'Non ha votato': np.float64(0), 'Contrario': np.float64(3), 'Astensione': np.float64(4), 'In missione': np.float64(0)}\n",
    "    for i in df.columns[4:]:\n",
    "        df[i] = df[i].map(dizionario_espressioni)\n",
    "\n",
    "    df = df.replace(np.nan, 0)\n",
    "\n",
    "\n",
    "    indici = []\n",
    "    for i in range(df.shape[0]):\n",
    "        if np.count_nonzero(df.iloc[i,4:]) < 0.7*(df.shape[1]-4):\n",
    "            indici.append(i)\n",
    "\n",
    "    df.drop(indici, axis = 0, inplace = True)\n",
    "    df.reset_index(inplace= True, drop = True)\n",
    "\n",
    "    alignment = alignment_parties(df)\n",
    "\n",
    "    discipline = []\n",
    "    for index, row in df.iterrows():\n",
    "        p = alignment[alignment['Partito'] == row['Partito']]\n",
    "        c = 0\n",
    "        for i in p.drop('Partito', axis = 1).columns:\n",
    "            if row[i] == np.float64(p[i][0]):\n",
    "                c+=1\n",
    "        \n",
    "        discipline.append(c/(len(p.columns) - 1))\n",
    "\n",
    "    df['discipline'] = discipline\n",
    "\n",
    "    m = np.array(df[df.columns[4:df.shape[1]-1]])\n",
    "\n",
    "    A = np.zeros((len(m),len(m))) #inizializzo matrice a 0\n",
    "    i=0\n",
    "    j=0\n",
    "    for i in range(len(m)):\n",
    "        for j in range(len(m)):\n",
    "            A[i,j] = similarita(m[i],m[j])\n",
    "    \n",
    "    G = nx.from_numpy_matrix(A)\n",
    "    G.remove_edges_from(nx.selfloop_edges(G))\n",
    "    threshold = np.percentile(A, q = 50)\n",
    "    G.remove_edges_from([(n1, n2) for n1, n2, w in G.edges(data=\"weight\") if w < threshold])\n",
    "\n",
    "    drop_weights(G)\n",
    "\n",
    "    val = {}\n",
    "    for i in G.nodes:\n",
    "        val[i] = df['id'][i]\n",
    "    \n",
    "    return G"
   ]
  },
  {
   "cell_type": "code",
   "execution_count": 28,
   "metadata": {},
   "outputs": [],
   "source": [
    "df = pd.read_csv(file_list[1])"
   ]
  },
  {
   "cell_type": "code",
   "execution_count": 29,
   "metadata": {},
   "outputs": [],
   "source": [
    "G = fromCsvToGraph(df)"
   ]
  },
  {
   "attachments": {},
   "cell_type": "markdown",
   "metadata": {},
   "source": [
    "Misure"
   ]
  },
  {
   "cell_type": "code",
   "execution_count": 39,
   "metadata": {},
   "outputs": [
    {
     "data": {
      "text/plain": [
       "0.4957464553794829"
      ]
     },
     "execution_count": 39,
     "metadata": {},
     "output_type": "execute_result"
    }
   ],
   "source": [
    "np.mean(list(nx.degree_centrality(G).values()))"
   ]
  },
  {
   "cell_type": "code",
   "execution_count": 42,
   "metadata": {},
   "outputs": [
    {
     "data": {
      "text/plain": [
       "0.0838349293998304"
      ]
     },
     "execution_count": 42,
     "metadata": {},
     "output_type": "execute_result"
    }
   ],
   "source": [
    "np.mean(list(nx.eigenvector_centrality_numpy(G).values()))"
   ]
  },
  {
   "cell_type": "code",
   "execution_count": 43,
   "metadata": {},
   "outputs": [
    {
     "data": {
      "text/plain": [
       "0.00909090909090909"
      ]
     },
     "execution_count": 43,
     "metadata": {},
     "output_type": "execute_result"
    }
   ],
   "source": [
    "np.mean(list(nx.pagerank(G).values()))"
   ]
  },
  {
   "cell_type": "code",
   "execution_count": 45,
   "metadata": {},
   "outputs": [
    {
     "data": {
      "text/plain": [
       "0.5736451257348052"
      ]
     },
     "execution_count": 45,
     "metadata": {},
     "output_type": "execute_result"
    }
   ],
   "source": [
    "np.mean(list(nx.closeness_centrality(G).values()))"
   ]
  },
  {
   "cell_type": "code",
   "execution_count": 46,
   "metadata": {},
   "outputs": [
    {
     "data": {
      "text/plain": [
       "68.30909090909091"
      ]
     },
     "execution_count": 46,
     "metadata": {},
     "output_type": "execute_result"
    }
   ],
   "source": [
    "np.mean(list(nx.harmonic_centrality(G).values()))"
   ]
  },
  {
   "cell_type": "code",
   "execution_count": 47,
   "metadata": {},
   "outputs": [
    {
     "data": {
      "text/plain": [
       "0.002670435239242579"
      ]
     },
     "execution_count": 47,
     "metadata": {},
     "output_type": "execute_result"
    }
   ],
   "source": [
    "np.mean(list(nx.betweenness_centrality(G).values()))"
   ]
  },
  {
   "cell_type": "code",
   "execution_count": 50,
   "metadata": {},
   "outputs": [
    {
     "data": {
      "text/plain": [
       "0.023402758177638518"
      ]
     },
     "execution_count": 50,
     "metadata": {},
     "output_type": "execute_result"
    }
   ],
   "source": [
    "nx.degree_assortativity_coefficient(G)"
   ]
  }
 ],
 "metadata": {
  "kernelspec": {
   "display_name": "Python 3",
   "language": "python",
   "name": "python3"
  },
  "language_info": {
   "codemirror_mode": {
    "name": "ipython",
    "version": 3
   },
   "file_extension": ".py",
   "mimetype": "text/x-python",
   "name": "python",
   "nbconvert_exporter": "python",
   "pygments_lexer": "ipython3",
   "version": "3.10.11"
  },
  "orig_nbformat": 4
 },
 "nbformat": 4,
 "nbformat_minor": 2
}
